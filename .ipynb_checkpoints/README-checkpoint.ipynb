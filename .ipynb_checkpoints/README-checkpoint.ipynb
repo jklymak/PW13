{
 "metadata": {
  "name": "",
  "signature": "sha256:996c9c2fde2191567a87873650de89fa0e19c2dd4231811cab952ca0090ede68"
 },
 "nbformat": 3,
 "nbformat_minor": 0,
 "worksheets": [
  {
   "cells": [
    {
     "cell_type": "heading",
     "level": 1,
     "metadata": {},
     "source": [
      "PW13 Analysyis: Jody Klymak"
     ]
    },
    {
     "cell_type": "markdown",
     "metadata": {},
     "source": [
      "This analysis will be on github.  To run, you need ~/PW13/analysis and ~/PW13/data ~/PW13/figs.  The data directory will be mirrored on Dropbox.  The analysis directory on github.  The figs will not be available publicly, but can be generated from the notebooks"
     ]
    },
    {
     "cell_type": "code",
     "collapsed": false,
     "input": [],
     "language": "python",
     "metadata": {},
     "outputs": []
    }
   ],
   "metadata": {}
  }
 ]
}